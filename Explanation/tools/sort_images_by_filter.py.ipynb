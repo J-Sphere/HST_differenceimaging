{
 "cells": [
  {
   "cell_type": "markdown",
   "metadata": {},
   "source": [
    "This works the same way as sort_images_by_proposid.py, please check out that documentation too"
   ]
  },
  {
   "cell_type": "code",
   "execution_count": null,
   "metadata": {
    "collapsed": true
   },
   "outputs": [],
   "source": [
    "import os\n",
    "from astropy.io import fits\n",
    "import argparse\n",
    "\n",
    "parser=argparse.ArgumentParser()\n",
    "parser.add_argument('-dir', type=str, default='./', help='give root direcory')\n",
    "args=parser.parse_args()\n",
    "indir=args.dir\n",
    "images=os.listdir(indir)\n",
    "for image in images:\n",
    "    if not image[-5:]=='.fits':\n",
    "        print '>>> image: \\t %s does not end with an .fits, it is no fits file\\n'%(image)\n",
    "        continue\n",
    "    print image\n",
    "    try:\n",
    "        hdulist=fits.open(indir+image)\n",
    "    except IOError:\n",
    "        print '>>> image: \\t %s is not a .fits file or has no header\\n'%(image)\n",
    "        continue"
   ]
  },
  {
   "cell_type": "markdown",
   "metadata": {},
   "source": [
    "see sort_images_by_proposid.py.ipynb"
   ]
  },
  {
   "cell_type": "code",
   "execution_count": null,
   "metadata": {
    "collapsed": true
   },
   "outputs": [],
   "source": [
    "    try:\n",
    "        filter_from_image=hdulist[0].header['FILTER']\n",
    "        fnum=0\n",
    "    except KeyError:\n",
    "        filter_from_image=None\n",
    "    if filter_from_image is None:\n",
    "        try:\n",
    "            filter_from_image=hdulist[0].header['FILTER2']\n",
    "            fnum=2\n",
    "        except KeyError:\n",
    "            pass\n",
    "\n",
    "        if filter_from_image=='CLEAR2L':\n",
    "            try: \n",
    "                filter_from_image=hdulist[0].header['FILTER1']\n",
    "                fnum=1\n",
    "            except KeyError:\n",
    "                pass    \n",
    "        if filter_from_image=='CLEAR1L':\n",
    "            print '>>>  image: \\t %s does not have a Filter'%(image)\n",
    "            continue\n",
    "\n",
    "        fits.setval(indir+image, 'FILTER', value=filter_from_image)"
   ]
  },
  {
   "cell_type": "markdown",
   "metadata": {},
   "source": [
    "Ckeck if Keyword Filter is in the header, this is sometimes not the case\n",
    "If not found check other keywords FILTER1 and FILTER2\n",
    "Take the Keyword which is not CLEAR1/2L\n",
    "Set FILTER keyword respectively"
   ]
  },
  {
   "cell_type": "code",
   "execution_count": null,
   "metadata": {
    "collapsed": true
   },
   "outputs": [],
   "source": [
    "    try:\n",
    "        print 'using filter %i'%(fnum)\n",
    "    except:\n",
    "        print 'image: \\t %s does not have a Filter'%(image)\n",
    "        continue    \n",
    "\n",
    "    outdir=indir+filter_from_image+'/'\n",
    "    print 'image: \\t %s \\tFilter \\t %s \\t from Filter %i' %(image, filter_from_image, fnum)\n",
    "    print 'indir: \\t %s' %(indir)\n",
    "    print 'outdir:\\t %s' %(outdir)\n",
    "    print '\\n'\n",
    "    try:\n",
    "        os.rename(indir+image, outdir+image)\n",
    "    except OSError:\n",
    "        print '>>>>>>>>>>>>>>>>>>>>>>>>>>>>>>>>>>>\\ncreating directory /%s/\\n>>>>>>>>>>>>>>>>>>>>>>>>>>>>>>>>>>>'%(filter_from_image)\n",
    "        os.mkdir(outdir)\n",
    "        os.rename(indir+image, outdir+image)"
   ]
  },
  {
   "cell_type": "markdown",
   "metadata": {},
   "source": [
    "Shows the result it found for FILTER if it has found sth\n",
    "Defines Outdir eg ./F225W/\n",
    "Moves Files, if it does not work creates Directory and tries again"
   ]
  }
 ],
 "metadata": {
  "kernelspec": {
   "display_name": "Python 3",
   "language": "python",
   "name": "python3"
  },
  "language_info": {
   "codemirror_mode": {
    "name": "ipython",
    "version": 3
   },
   "file_extension": ".py",
   "mimetype": "text/x-python",
   "name": "python",
   "nbconvert_exporter": "python",
   "pygments_lexer": "ipython3",
   "version": "3.5.1"
  }
 },
 "nbformat": 4,
 "nbformat_minor": 0
}
