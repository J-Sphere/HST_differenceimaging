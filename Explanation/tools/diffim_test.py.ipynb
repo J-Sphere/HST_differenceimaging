{
 "cells": [
  {
   "cell_type": "markdown",
   "metadata": {},
   "source": [
    "blindly subtracts two fits file's data, diff im for dummies"
   ]
  },
  {
   "cell_type": "code",
   "execution_count": null,
   "metadata": {
    "collapsed": true
   },
   "outputs": [],
   "source": [
    "#!/usr/bin/env python\n",
    "import argparse\n",
    "import modules as mod\n",
    "from astropy.io import fits\n",
    "def get_opt():\n",
    "    parser=argparse.ArgumentParser()\n",
    "    parser.add_argument('-im1', nargs='*')\n",
    "    parser.add_argument('-im2', nargs='*')\n",
    "    args=parser.parse_args()\n",
    "    return(args)\n",
    "\n",
    "\n",
    "if __name__=='__main__':\n",
    "    args=get_opt()\n",
    "    im1, im2 = args.im1, args.im2\n",
    "    for ima, imb in zip(im1, im2):\n",
    "        print ima, '\\n', imb\n",
    "        fits1=mod.FitsFile(ima)\n",
    "        fits2=mod.FitsFile(imb)\n",
    "        data1=fits1.hdulist[0].data\n",
    "        data2=fits2.hdulist[0].data\n",
    "        print 'data found', fits1.name, fits2.name\n",
    "        new_data=data2-data1\n",
    "        print new_data\n",
    "        new_name='new_'+fits1.name[0:8]+fits2.name[0:8]+'_diff_jh.fits'\n",
    "        print new_name\n",
    "        hdu = fits.PrimaryHDU(new_data)\n",
    "        hdu.writeto(new_name, clobber=True)\n",
    "        fits1.close()\n",
    "        fits2.close()"
   ]
  }
 ],
 "metadata": {
  "kernelspec": {
   "display_name": "Python 3",
   "language": "python",
   "name": "python3"
  },
  "language_info": {
   "codemirror_mode": {
    "name": "ipython",
    "version": 3
   },
   "file_extension": ".py",
   "mimetype": "text/x-python",
   "name": "python",
   "nbconvert_exporter": "python",
   "pygments_lexer": "ipython3",
   "version": "3.5.1"
  }
 },
 "nbformat": 4,
 "nbformat_minor": 0
}
