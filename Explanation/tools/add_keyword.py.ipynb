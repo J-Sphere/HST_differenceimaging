{
 "cells": [
  {
   "cell_type": "markdown",
   "metadata": {},
   "source": [
    "run add_keyword.py [NAME OF THE KEYWORD] [VALUE OF THE KEYWORD] [-dir] [-pattern] to set the keyword in all images in dir (default ./) that fit this pattern (default .fits). It overwrites the changes, so make sure that you are doing the right thing"
   ]
  },
  {
   "cell_type": "code",
   "execution_count": null,
   "metadata": {
    "collapsed": true
   },
   "outputs": [],
   "source": [
    "#!/usr/bin/env python\n",
    "import modules as m\n",
    "import argparse, re, os\n",
    "\n",
    "def get_opt():\n",
    "    parser=argparse.ArgumentParser()\n",
    "    parser.add_argument('-dir', type=str, default='./', help='give root direcory')\n",
    "    parser.add_argument('-pattern', type=str, default='.fits')\n",
    "    parser.add_argument('keyword', type=str, default=None, nargs=2, help='NAME VALUE')\n",
    "    args=parser.parse_args()\n",
    "    return(args)\n",
    "if __name__=='__main__':\n",
    "    args=get_opt()\n",
    "    name, value = args.keyword\n",
    "    images=[]\n",
    "    for image in sorted(os.listdir(args.dir)):\n",
    "        if re.search(args.pattern, image):\n",
    "            fitsfile=m.FitsFile(args.dir+image)\n",
    "            print('>>> %s:\\tsetting keyword %s to %s'%(fitsfile.name, name, value))\n",
    "            m.FitsFile.set(fitsfile, keyword=name, value=value)\n",
    "            images.append(image)"
   ]
  }
 ],
 "metadata": {
  "kernelspec": {
   "display_name": "Python 3",
   "language": "python",
   "name": "python3"
  },
  "language_info": {
   "codemirror_mode": {
    "name": "ipython",
    "version": 3
   },
   "file_extension": ".py",
   "mimetype": "text/x-python",
   "name": "python",
   "nbconvert_exporter": "python",
   "pygments_lexer": "ipython3",
   "version": "3.5.1"
  }
 },
 "nbformat": 4,
 "nbformat_minor": 0
}
