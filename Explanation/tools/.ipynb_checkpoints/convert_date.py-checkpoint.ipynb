{
 "cells": [
  {
   "cell_type": "markdown",
   "metadata": {},
   "source": [
    "adds keyword OBS-DNO (date in MJD) in images, can be useful to look at them "
   ]
  },
  {
   "cell_type": "code",
   "execution_count": null,
   "metadata": {
    "collapsed": true
   },
   "outputs": [],
   "source": [
    "#!/usr/bin/env python\n",
    "import argparse, os\n",
    "import modules as mod\n",
    "\n",
    "def get_opt():\n",
    "    parser=argparse.ArgumentParser()\n",
    "    args=parser.parse_args()\n",
    "    return(args)\n",
    "\n",
    "\n",
    "if __name__=='__main__':\n",
    "    args=get_opt()\n",
    "    dir='./'\n",
    "    for image in sorted(os.listdir(dir)):\n",
    "        if image.endswith('fits'):\n",
    "            ffile=mod.FitsFile(dir+image)\n",
    "            date_obs=ffile.keyword('DATE-OBS')\n",
    "            date_est=mod.est_obsdate2days(date_obs)\n",
    "            print image, date_obs, ' ---> ', date_est\n",
    "            ffile.set(keyword='OBS-DNO', value=date_est)\n",
    "            ffile.close()"
   ]
  }
 ],
 "metadata": {
  "kernelspec": {
   "display_name": "Python 3",
   "language": "python",
   "name": "python3"
  },
  "language_info": {
   "codemirror_mode": {
    "name": "ipython",
    "version": 3
   },
   "file_extension": ".py",
   "mimetype": "text/x-python",
   "name": "python",
   "nbconvert_exporter": "python",
   "pygments_lexer": "ipython3",
   "version": "3.5.1"
  }
 },
 "nbformat": 4,
 "nbformat_minor": 0
}
