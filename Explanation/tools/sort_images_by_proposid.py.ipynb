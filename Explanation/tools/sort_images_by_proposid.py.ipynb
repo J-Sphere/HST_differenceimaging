{
 "cells": [
  {
   "cell_type": "markdown",
   "metadata": {},
   "source": [
    "This script reads out every .fits file's Keyword PROPOSID in the given directory (default ./, can be set with -dir), and puts it into a directory with this name (eg. ./12499/), if it does not exist one is created."
   ]
  },
  {
   "cell_type": "code",
   "execution_count": null,
   "metadata": {
    "collapsed": true
   },
   "outputs": [],
   "source": [
    "import os\n",
    "from astropy.io import fits\n",
    "import argparse"
   ]
  },
  {
   "cell_type": "markdown",
   "metadata": {},
   "source": [
    "importing modules"
   ]
  },
  {
   "cell_type": "code",
   "execution_count": null,
   "metadata": {
    "collapsed": true
   },
   "outputs": [],
   "source": [
    "parser=argparse.ArgumentParser()\n",
    "parser.add_argument('-dir', type=str, default='./', help='give root direcory')\n",
    "args=parser.parse_args()\n",
    "indir=args.dir\n",
    "images=os.listdir(indir)"
   ]
  },
  {
   "cell_type": "markdown",
   "metadata": {},
   "source": [
    "Initialisation"
   ]
  },
  {
   "cell_type": "code",
   "execution_count": null,
   "metadata": {
    "collapsed": true
   },
   "outputs": [],
   "source": [
    "for image in images:\n",
    "    if not image[-5:]=='.fits':\n",
    "        print '>>> image: \\t %s does not end with an .fits, it is no fits file\\n'%(image)\n",
    "        continue\n",
    "    print image\n",
    "    try:\n",
    "        hdulist=fits.open(indir+image)\n",
    "    except IOError:\n",
    "        print '>>> image: \\t %s is not a .fits file or has no header\\n'%(image)\n",
    "        continue\n",
    "    try:\n",
    "        propid=str(hdulist[0].header['PROPOSID'])\n",
    "    except KeyError:\n",
    "        print 'Keyword not found'\n",
    "        continue"
   ]
  },
  {
   "cell_type": "markdown",
   "metadata": {},
   "source": [
    "For every image in the directory:\n",
    "check if the name ends with .fits\n",
    "check if header can be opened\n",
    "check if keyword is found"
   ]
  },
  {
   "cell_type": "code",
   "execution_count": null,
   "metadata": {
    "collapsed": true
   },
   "outputs": [],
   "source": [
    "    outdir=indir+propid+'/'\n",
    "    try:\n",
    "        os.rename(indir+image, outdir+image)\n",
    "    except OSError:\n",
    "        print '>>>>>>>>>>>>>>>>>>>>>>>>>>>>>>>>>>>\\ncreating directory /%s/\\n>>>>>>>>>>>>>>>>>>>>>>>>>>>>>>>>>>>'%(propid)\n",
    "        os.mkdir(outdir)\n",
    "        os.rename(indir+image, outdir+image)"
   ]
  },
  {
   "cell_type": "markdown",
   "metadata": {},
   "source": [
    "Define Output dir\n",
    "try to move it there\n",
    "if it does not exist create it and try again"
   ]
  }
 ],
 "metadata": {
  "kernelspec": {
   "display_name": "Python 3",
   "language": "python",
   "name": "python3"
  },
  "language_info": {
   "codemirror_mode": {
    "name": "ipython",
    "version": 3
   },
   "file_extension": ".py",
   "mimetype": "text/x-python",
   "name": "python",
   "nbconvert_exporter": "python",
   "pygments_lexer": "ipython3",
   "version": "3.5.1"
  }
 },
 "nbformat": 4,
 "nbformat_minor": 0
}
