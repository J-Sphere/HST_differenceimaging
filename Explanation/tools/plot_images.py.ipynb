{
 "cells": [
  {
   "cell_type": "markdown",
   "metadata": {},
   "source": [
    "Plots all images in the given directories in the sky"
   ]
  },
  {
   "cell_type": "code",
   "execution_count": null,
   "metadata": {
    "collapsed": true
   },
   "outputs": [],
   "source": [
    "#!/usr/bin/env python\n",
    "import os, argparse\n",
    "from astropy import wcs\n",
    "from astropy.io import fits\n",
    "from matplotlib import pyplot as plt\n",
    "from modules import FitsFile, rainbow_colorcode\n",
    "def get_opt():\n",
    "    parser=argparse.ArgumentParser()\n",
    "    parser.add_argument('-dir',type=str, default=['./'], help='rootdir', nargs='*')\n",
    "    args=parser.parse_args()\n",
    "    return(args)\n",
    "\n",
    "\n",
    "def plot_images(dir='./', color=None):\n",
    "\n",
    "    plt.figure('ra vs dec')\n",
    "    files=[]\n",
    "    for el in sorted(os.listdir(dir)):\n",
    "        if el.endswith('.fits'):\n",
    "            files.append(el)\n",
    "    #ra, dec = [], []\n",
    "    for image in files:\n",
    "        try:\n",
    "            myfile=FitsFile(dir+image)\n",
    "            try:\n",
    "                ra_im=FitsFile.keyword(myfile, 'CRVAL1', ext=1)\n",
    "                dec_im=FitsFile.keyword(myfile, 'CRVAL2', ext=1)\n",
    "                print ra_im, dec_im\n",
    "                plt.plot(ra_im, dec_im, 'o', color=color)\n",
    "            except IndexError:\n",
    "                pass\n",
    "            try:\n",
    "                ra_im=FitsFile.keyword(myfile, 'CRVAL1', ext=4)\n",
    "                dec_im=FitsFile.keyword(myfile, 'CRVAL2', ext=4)\n",
    "                print ra_im, dec_im\n",
    "                plt.plot(ra_im, dec_im, 'o', color=color)\n",
    "            except IndexError:\n",
    "                pass\n",
    "            if True:\n",
    "                try:\n",
    "                    naxis1=myfile.keyword('NAXIS1', ext=1)\n",
    "                    naxis2=myfile.keyword('NAXIS2', ext=1)\n",
    "                    w=wcs.WCS(header=myfile.hdulist[1].header, fobj=myfile.hdulist)                    \n",
    "                    points=[[0, 0, naxis1, naxis1, 0],[0, naxis2, naxis2, 0, 0]]\n",
    "                    lon, lat = w.all_pix2world(points[0],points[1], 1)\n",
    "                    plt.plot(lon, lat, color=color)\n",
    "                    w=wcs.WCS(header=myfile.hdulist[4].header, fobj=myfile.hdulist)\n",
    "                    lon, lat = w.all_pix2world(points[0],points[1], 1)\n",
    "                    plt.plot(lon, lat, color=color)\n",
    "                except IndexError:\n",
    "                    pass\n",
    "        except KeyError:\n",
    "            print 'nf'\n",
    "            pass\n",
    "    return(True)\n",
    "if __name__=='__main__':\n",
    "    args=get_opt()\n",
    "    direcs=args.dir\n",
    "    a=0\n",
    "    colors=rainbow_colorcode(len(direcs))\n",
    "    for d in direcs:\n",
    "        try:\n",
    "            plot_images(dir=d+'/', color=colors[a])\n",
    "            a+=1\n",
    "        except OSError:\n",
    "            pass\n",
    "    plt.show()\n",
    "\n"
   ]
  }
 ],
 "metadata": {
  "kernelspec": {
   "display_name": "Python 3",
   "language": "python",
   "name": "python3"
  },
  "language_info": {
   "codemirror_mode": {
    "name": "ipython",
    "version": 3
   },
   "file_extension": ".py",
   "mimetype": "text/x-python",
   "name": "python",
   "nbconvert_exporter": "python",
   "pygments_lexer": "ipython3",
   "version": "3.5.1"
  }
 },
 "nbformat": 4,
 "nbformat_minor": 0
}
