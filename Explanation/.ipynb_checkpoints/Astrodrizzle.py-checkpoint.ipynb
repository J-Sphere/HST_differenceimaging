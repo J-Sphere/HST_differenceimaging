{
 "cells": [
  {
   "cell_type": "markdown",
   "metadata": {},
   "source": [
    "The structure is similar to Tweakreg.py please check out that documentation too!\n",
    "Generally dont use this though\n",
    "if -VIS is not given no new directory is created\n",
    "-VIS '*' does not work"
   ]
  },
  {
   "cell_type": "code",
   "execution_count": null,
   "metadata": {
    "collapsed": true
   },
   "outputs": [],
   "source": [
    "print '>>modules'\n",
    "import argparse\n",
    "import sys, os, re, time\n",
    "from astropy.io import fits\n",
    "start=time.time()\n",
    "\n",
    "\n",
    "#mode Jakob needs ssbrel\n",
    "\"\"\"\n",
    "astrodrizzle them to clean from crs, this gives a whole lot of s***, one is interested in the _crclean images...\n",
    "make sure they have header keyword 'FILTER' (eg run sort_images_by_filter.py in jpy)\n",
    "\"\"\"\n",
    "\n",
    "#parser\n",
    "parser=argparse.ArgumentParser()\n",
    "parser.add_argument('-adinput', type=str, default='flc.fits', help='uses all images which end with') \n",
    "parser.add_argument('-VIS', type=str, default=['[0-9][0-9]'], nargs='*', help='give all visits, you want to run, standard is 01-20, example -VIS 01 04 10 15') #02, 14\n",
    "parser.add_argument('-FILTER', type=str, default=[], nargs='*', help='give all Filters (keyword filter) you want to run, otherwise all available Filters are taken, same syntax as -VIS') #F775W\n",
    "parser.add_argument('-mode', type=str, default='Jakob', help='only Jakob exists so far' )\n",
    "parser.add_argument('-dir', type=str,default='./', help='give root directory')\n",
    "args=parser.parse_args()\n",
    "\n",
    "\n",
    "#astrodrizzle\n",
    "import drizzlepac\n",
    "print 'drizzlepac Version -> ', drizzlepac.__version__, '\\n'\n",
    "from drizzlepac import astrodrizzle\n",
    "\n",
    "VIS=args.VIS\n",
    "print '\\ninput: \\nVIS', VIS\n",
    "FILTER=args.FILTER\n",
    "print 'FILTER', FILTER, '\\n'\n",
    "\n",
    "mode=args.mode\n",
    "indir=args.dir\n",
    "adinput=args.adinput\n",
    "\n",
    "start_filter=time.time()\n",
    "print '%.2f seconds since start, used for initialization'%(start_filter-start)\n",
    "if FILTER==[]:\n",
    "    print('looking for Filter in all files, this might take some time')\n",
    "    for el in os.listdir(indir):\n",
    "        if el.endswith(adinput):\n",
    "            try:\n",
    "                hdulist=fits.open(indir+el) \n",
    "                new_filter=hdulist[0].header['FILTER']\n",
    "                if new_filter not in FILTER:\n",
    "                    FILTER.append(new_filter)\n",
    "            except:\n",
    "                print('could not open file %s'%(indir+el))\n",
    "        else:\n",
    "            print('omitting %s')%(indir+el)\n",
    "print 'It took %.2f seconds to find all filters'%(time.time()-start_filter)\n",
    "if VIS==[]:\n",
    "    for i in xrange(1,21):\n",
    "        if i<10: VIS.append('0'+str(i))\n",
    "        else: VIS.append(str(i))\n",
    "elif VIS==['[0-9][0-9]']:\n",
    "    pass\n",
    "print 'FILTER: ', FILTER\n",
    "print 'VIS:', VIS"
   ]
  },
  {
   "cell_type": "markdown",
   "metadata": {},
   "source": [
    "So far more or less the same as for Tweakreg.py"
   ]
  },
  {
   "cell_type": "code",
   "execution_count": null,
   "metadata": {
    "collapsed": true
   },
   "outputs": [],
   "source": [
    "print '>>running mode ', mode\n",
    "if mode=='Jakob':\n",
    "    for VISno in VIS:\n",
    "        time_visit=time.time()\n",
    "        items=[]\n",
    "        print '\\n>>>Running VISIT ', VISno\n",
    "        for el in os.listdir(indir):\n",
    "            if re.search(str(VISno), el):\n",
    "                items.append(el)\n",
    "        for FILTERno in FILTER:\n",
    "            time_filter=time.time()\n",
    "            final_items=[]\n",
    "            print '\\nRunning FILTER ', FILTERno\n",
    "            for el in items:\n",
    "                try:\n",
    "                    hdulist=fits.open(indir+el)\n",
    "                    if hdulist[0].header['FILTER']==FILTERno:\n",
    "                        print '\\t',el\n",
    "                        final_items.append(el)\n",
    "\n",
    "                except:\n",
    "                    print '\\tomitting %s'%(el)\n",
    "                    continue\n",
    "            outdir=indir+str(FILTERno)+'_'+str(VISno)+'/'\n",
    "            for image in final_items:\n",
    "                if not VIS==['[0-9][0-9]']:\n",
    "                    try:\n",
    "                        os.rename(indir+image, outdir+image)\n",
    "                    except OSError:\n",
    "                        print '>>>>>>>>>>>>>>>>>>>>>>>>>>>>>>>>>>>\\ncreating directory /%s/\\n>>>>>>>>>>>>>>>>>>>>>>>>>>>>>>>>>>>'%(str(FILTERno)+'_'+str(VISno))\n",
    "                        os.mkdir(outdir)\n",
    "                        os.rename(indir+image, outdir+image)"
   ]
  },
  {
   "cell_type": "markdown",
   "metadata": {},
   "source": [
    "Still the same, but there are some changes, if -VIS is ['[0-9][0-9]'] then no files are moved"
   ]
  },
  {
   "cell_type": "code",
   "execution_count": null,
   "metadata": {
    "collapsed": true
   },
   "outputs": [],
   "source": [
    "                    if not final_items==[]:  astrodrizzle.AstroDrizzle(input=outdir+'*'+adinput, output=outdir+FILTERno+'_'+VISno, clean=False, driz_cr_corr=True)\n",
    "                else:\n",
    "                    if not final_items==[]:  astrodrizzle.AstroDrizzle(input=imdir+'*'+adinput, output=indir+FILTERno+'_'+VISno, clean=False, driz_cr_corr=True)\n",
    "            else: print 'No images for Visit {} and Filter {}'.format(VISno, FILTERno)\n",
    "            print 'It took %.2f seconds to run astrodrizzle for this filter'%(time.time()-time_filter)\n",
    "        print 'It took %.2f seconds to run astrodrizzle for this visit'%(time.time()-time_visit)\n",
    "\n",
    "else:\n",
    "    print 'please give an existing mode'"
   ]
  },
  {
   "cell_type": "markdown",
   "metadata": {},
   "source": [
    "Runs Astrodrizzle\n",
    "Prints out how much time has been used\n",
    "with elif mode=='MyMode': You can add your own program, default can be changed in the argparser."
   ]
  }
 ],
 "metadata": {
  "kernelspec": {
   "display_name": "Python 3",
   "language": "python",
   "name": "python3"
  },
  "language_info": {
   "codemirror_mode": {
    "name": "ipython",
    "version": 3
   },
   "file_extension": ".py",
   "mimetype": "text/x-python",
   "name": "python",
   "nbconvert_exporter": "python",
   "pygments_lexer": "ipython3",
   "version": "3.5.1"
  }
 },
 "nbformat": 4,
 "nbformat_minor": 0
}
