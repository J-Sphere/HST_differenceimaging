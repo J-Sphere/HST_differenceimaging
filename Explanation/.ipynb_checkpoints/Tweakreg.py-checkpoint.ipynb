{
 "cells": [
  {
   "cell_type": "markdown",
   "metadata": {},
   "source": [
    "Tweakreg sorts the imgaes into blocks and aligns them to a given catalogue, requirement ssbdev, DONT USE SSBREL\n",
    "Remember to run sort_images_by_filter.py first to have the keyword FILTER added, as it might not exist in every HST fits file\n",
    "See Documentation.docx for explaination of the parameters"
   ]
  },
  {
   "cell_type": "code",
   "execution_count": null,
   "metadata": {
    "collapsed": true
   },
   "outputs": [],
   "source": [
    "print '>>modules'\n",
    "import argparse\n",
    "import sys, os, re, time\n",
    "from modules import move_im \n",
    "start=time.time()\n",
    "\n",
    "#mode Jakob needs ssbdev\n",
    "\"\"\"\n",
    "tweakreg pictures, allign them to catalogue\n",
    "make sure they have header keyword 'FILTER' (eg run sort_images_by_filter.py in jpy)\n",
    "\"\"\"\n",
    "def get_opt():\n",
    "    parser=argparse.ArgumentParser()\n",
    "    parser.add_argument('-trinput', type=str, default='flc.fits', help='uses all images which end with') \n",
    "    parser.add_argument('-VIS', type=str, default=[], nargs='*', help='give all visits, you want to run, standard is 01-20, example -VIS 01 04 10 15') #02, 14\n",
    "    parser.add_argument('-FILTER', type=str, default=[], nargs='*', help='give all Filters (keyword filter) you want to run, otherwise all available Filters are taken, same syntax as -VIS') #F775W\n",
    "    parser.add_argument('-mode', type=str, default='Jakob', help='only Jakob exists so far')\n",
    "    parser.add_argument('-tr_refcat', type=str, default='30dor.0x900b.cat', help='give the catalogue (given in -dir(DONT USE IT DUE TO PROBLEMS EITH \".\" IN DIRECTORY NAME) or ./), MAKE SURE YOU ARE USING SSBDEV')\n",
    "    parser.add_argument('-dir', type=str, default='./')\n",
    "    \n",
    "    args=parser.parse_args()\n",
    "    return(args)"
   ]
  },
  {
   "cell_type": "markdown",
   "metadata": {},
   "source": [
    "Modules are imported, Initialisation of argparse"
   ]
  },
  {
   "cell_type": "code",
   "execution_count": null,
   "metadata": {
    "collapsed": true
   },
   "outputs": [],
   "source": [
    "def tr_init(args, imdir):\n",
    "    import drizzlepac\n",
    "    print 'drizzlepac Version -> ', drizzlepac.__version__, '\\n'\n",
    "    from astropy.io import fits\n",
    "\n",
    "    VIS=args.VIS\n",
    "    print '\\ninput: \\nVIS', VIS\n",
    "    FILTER=args.FILTER\n",
    "    print 'FILTER', FILTER, '\\n'\n",
    "    mode=args.mode\n",
    "    tr_refcat=args.tr_refcat\n",
    "    cats=[]\n",
    "    trinput=args.trinput\n",
    "    if tr_refcat in os.listdir(imdir):\n",
    "        print 'Using Cataloge %s'%(tr_refcat)\n",
    "    else:\n",
    "        for el in os.listdir(imdir):\n",
    "            if re.search(tr_refcat, imdir):\n",
    "                cats.append(el)\n",
    "        if len(cats)!=1:\n",
    "            print 'please specify catalogue'\n",
    "            sys.exit(1)        \n",
    "\n",
    "    start_filter=time.time()\n",
    "    print '%.2f seconds since start, used for initialization'%(start_filter-start)\n",
    "    if FILTER==[]:\n",
    "        print('looking for Filter in all files, this might take some time')\n",
    "        for el in os.listdir(imdir):\n",
    "            if el.endswith(trinput):\n",
    "                try:\n",
    "                    hdulist=fits.open(imdir+el) \n",
    "                    new_filter=hdulist[0].header['FILTER']\n",
    "                    if new_filter not in FILTER:\n",
    "                        FILTER.append(new_filter)\n",
    "                except:\n",
    "                    print('could not open file %s'%(imdir+el))\n",
    "            else:\n",
    "                print('omitting %s')%(imdir+el)\n",
    "    print 'It took %.2f seconds to find all filters'%(time.time()-start_filter)\n",
    "    if VIS==[]:\n",
    "        for i in xrange(1,21):\n",
    "            if i<10: VIS.append('0'+str(i))\n",
    "            else: VIS.append(str(i))\n",
    "    return(VIS, FILTER, tr_refcat, trinput, mode)"
   ]
  },
  {
   "cell_type": "markdown",
   "metadata": {},
   "source": [
    "Further Initialisation, checks if catalogue is found, otherwise Tweakreg would stilll work, but align the images to a self created calatogue based on the first one."
   ]
  },
  {
   "cell_type": "markdown",
   "metadata": {},
   "source": [
    "If no Filters are given as an input the program assumes all possibilities are to be considered, it goes through all images and tries to get the key word FILTER and creates its own list."
   ]
  },
  {
   "cell_type": "markdown",
   "metadata": {},
   "source": [
    "If no Visits are given the program creates its own list from 1 to 20:\n",
    "[01, 02, 03, 04, 05, ..., 10, 11, 12,... 20]"
   ]
  },
  {
   "cell_type": "markdown",
   "metadata": {},
   "source": [
    "Mode = Jakob\n",
    "Go through the directory and find all files which match the visit number or any other string in the VIS list\n",
    "If it is * all images are used\n",
    "The list of names to be used is called items"
   ]
  },
  {
   "cell_type": "markdown",
   "metadata": {},
   "source": [
    "Go through the items list, check if the filter of the file fits the filter being run\n",
    "the list of all items to be used now is called final_items"
   ]
  },
  {
   "cell_type": "markdown",
   "metadata": {},
   "source": [
    "Move all the final_items away in their directory imdir/FILTER_VISIT/"
   ]
  },
  {
   "cell_type": "markdown",
   "metadata": {},
   "source": [
    "Runs Tweakreg on the outdir! If something goes wrong and you run the program again it might not find files in ypur directory, will not move them in the new directory and skip this VISIT and FILTER. It is never a mistake to make a backup copy!\n",
    "Depending on how large the cataloue and the images this can take a while\n",
    "\n",
    "All .png and .coo files are moved. They unfortunately belong to the output of tweakreg, eventhough the parameter clean is set to false"
   ]
  },
  {
   "cell_type": "code",
   "execution_count": null,
   "metadata": {
    "collapsed": true
   },
   "outputs": [],
   "source": [
    "def tr_rout(imdir, VIS, FILTER, tr_refcat, trinput, mode):\n",
    "    print 'FILTER: ', FILTER\n",
    "    print '>>running mode ', mode\n",
    "\n",
    "    if mode=='Jakob':\n",
    "        for VISno in VIS:\n",
    "            time_visno=time.time()\n",
    "            items=[]\n",
    "            print '\\n>>>Running VISIT ', VISno\n",
    "            if VISno=='*':\n",
    "                items=os.listdir(imdir)\n",
    "            else:\n",
    "                for el in os.listdir(imdir):\n",
    "                    if re.search(str(VISno), el):\n",
    "                        items.append(el)\n",
    "            for FILTERno in FILTER:\n",
    "                time_filter=time.time()\n",
    "                final_items=[]\n",
    "                print '\\nRunning FILTER ', FILTERno\n",
    "                for el in items:\n",
    "                    try:\n",
    "                        hdulist=fits.open(imdir+el)\n",
    "                    except:\n",
    "                        print '\\tomitting %s'%(el)\n",
    "                        continue\n",
    "                    if hdulist[0].header['FILTER']==FILTERno:\n",
    "                        print '\\t',el\n",
    "                        final_items.append(el)\n",
    "                outdir=imdir+str(FILTERno)+'_'+str(VISno)+'/'\n",
    "                for image in final_items:\n",
    "                    try:\n",
    "                        os.rename(imdir+image, outdir+image)\n",
    "                    except OSError:\n",
    "                        print '>>>>>>>>>>>>>>>>>>>>>>>>>>>>>>>>>>>\\ncreating directory /%s/\\n>>>>>>>>>>>>>>>>>>>>>>>>>>>>>>>>>>>'%(str(FILTERno)+'_'+str(VISno))\n",
    "                        os.mkdir(outdir)\n",
    "                        os.rename(imdir+image, outdir+image)\n",
    "                print tr_refcat\n",
    "                if not final_items==[]: drizzlepac.tweakreg.TweakReg(files=outdir+'*'+trinput, refimage=None, interactive=False, clean=True, updatewcs=True, updatehdr=True, wcsname='UPDATEWCS', refcat=imdir+tr_refcat)\n",
    "                else: print 'No images for Visit {} and Filter {}'.format(VISno, FILTERno)\n",
    "                print 'It took %.2f seconds to run tweakreg for this filter'%(time.time()-time_filter)\n",
    "                move_im('png', imdir)\n",
    "                move_im('coo', imdir)\n",
    "            print 'It took %.2f seconds to run tweakreg for this visit'%(time.time()-time_visno)\n",
    "    #write your own code here:\n",
    "    #elif mode== \"MyMode\":\n",
    "    #    Do stuff\n",
    "    else:\n",
    "        print 'please give an existing mode'\n",
    "\n",
    "    move_im('log', imdir)\n",
    "    return(True)"
   ]
  },
  {
   "cell_type": "markdown",
   "metadata": {},
   "source": [
    "If the mode being used is not Jakob alternatives are looked at here, default can be set in the argparser\n",
    "Moves tweakreg.log too, to clean up the directory"
   ]
  },
  {
   "cell_type": "code",
   "execution_count": null,
   "metadata": {
    "collapsed": true
   },
   "outputs": [],
   "source": [
    "if __name__=='__main__':\n",
    "    args=get_opt()\n",
    "    imdir=args.dir\n",
    "    VIS, FILTER, tr_refcat, trinput, mode=tr_init(args, imdir)\n",
    "    flag=tr_rout(imdir, VIS, FILTER, tr_refcat, trinput, mode)"
   ]
  },
  {
   "cell_type": "markdown",
   "metadata": {},
   "source": [
    "Runs Script, first the init part, then the routine"
   ]
  }
 ],
 "metadata": {
  "kernelspec": {
   "display_name": "Python 3",
   "language": "python",
   "name": "python3"
  },
  "language_info": {
   "codemirror_mode": {
    "name": "ipython",
    "version": 3
   },
   "file_extension": ".py",
   "mimetype": "text/x-python",
   "name": "python",
   "nbconvert_exporter": "python",
   "pygments_lexer": "ipython3",
   "version": "3.5.1"
  }
 },
 "nbformat": 4,
 "nbformat_minor": 0
}
