{
 "cells": [
  {
   "cell_type": "code",
   "execution_count": null,
   "metadata": {
    "collapsed": true
   },
   "outputs": [],
   "source": [
    "#!/usr/bin/env python\n",
    "import os, argparse, sys\n",
    "from modules import FitsFile, sort_images_by_single_keyword, move_im\n",
    "import numpy as np\n",
    "\n",
    "def get_opt():\n",
    "    parser=argparse.ArgumentParser()\n",
    "    parser.add_argument('-dir', type=str, default='./', help='rootdir')\n",
    "    parser.add_argument('-onlyshow', action='store_true', default=False, help='give to not set any values  but to see what it would be doing')\n",
    "    parser.add_argument('-mindiff', type=int, default=30*6, help='minimum difference between two observation in days (default 6 months)')\n",
    "\n",
    "    args=parser.parse_args()\n",
    "    return(args)"
   ]
  },
  {
   "cell_type": "markdown",
   "metadata": {},
   "source": [
    "Init"
   ]
  },
  {
   "cell_type": "code",
   "execution_count": null,
   "metadata": {
    "collapsed": true
   },
   "outputs": [],
   "source": [
    "def est_obsdate2days(date_obs):\n",
    "    obs_date_l=date_obs.split('-')\n",
    "    y=int(obs_date_l[0])-2000 #since 2000\n",
    "    m=int(obs_date_l[1])\n",
    "    d=int(obs_date_l[2])\n",
    "    days=365*y+30*m+d #Ignore 366 d/year and 31d/month\n",
    "    return days"
   ]
  },
  {
   "cell_type": "markdown",
   "metadata": {},
   "source": [
    "roughly estimates days since 01-01-2000 for difference analysis"
   ]
  },
  {
   "cell_type": "code",
   "execution_count": null,
   "metadata": {
    "collapsed": true
   },
   "outputs": [],
   "source": [
    "def mklists(names, onlyshow=True):\n",
    "    if not onlyshow: print 'collecting data, FCNUM, DATE-OBS, EXPTIME, from images'\n",
    "    fcnumlist=[]\n",
    "    keylist=[]\n",
    "    for x in names:\n",
    "        myfile=FitsFile(direc+x)\n",
    "        try:\n",
    "            fcnum=myfile.keyword('FCNUM')\n",
    "            date_obs=myfile.keyword('DATE-OBS')\n",
    "            ep_time=myfile.keyword('EXPTIME')\n",
    "        except KeyError:\n",
    "            print '>>> image \\t %s, keyword not found'%(myfile.name)\n",
    "            continue\n",
    "        try:\n",
    "            diffval=myfile.keyword('DIFFVAL')\n",
    "            myfile.remove('DIFFVAL')\n",
    "            myfile.save()\n",
    "        except:\n",
    "            pass\n",
    "\n",
    "        if onlyshow: print x, fcnum, date_obs\n",
    "        if fcnum in keylist:\n",
    "            idx=keylist.index(fcnum)\n",
    "            fcnumlist[idx].extend([[ x, est_obsdate2days(date_obs), ep_time ]])\n",
    "        else:\n",
    "            keylist.append(fcnum)\n",
    "            fcnumlist.extend([[ [x, est_obsdate2days(date_obs), ep_time ] ]])\n",
    "    fcnumlist=[x for (y,x) in sorted(zip(keylist,fcnumlist))]\n",
    "\n",
    "    #for el in fcnumlist:\n",
    "    #    print el\n",
    "    keylist=sorted(keylist)\n",
    "    return(fcnumlist, keylist)"
   ]
  },
  {
   "cell_type": "markdown",
   "metadata": {},
   "source": [
    "Basis for the actual diffval, sorts images by their fcnum"
   ]
  },
  {
   "cell_type": "code",
   "execution_count": null,
   "metadata": {
    "collapsed": true
   },
   "outputs": [],
   "source": [
    "def diffval(direc='./', inlist=[], keylist=[], minval=0, onlyshow=True):\n",
    "    flags=[]\n",
    "    for fcnum in xrange(len(inlist)):\n",
    "        print '\\n>>> FCNUM %i'%(fcnum)\n",
    "        if len(inlist[fcnum])==1:\n",
    "            print 'can not find subtraction pair, only one item in the list'\n",
    "            flags.append(False)\n",
    "            continue\n",
    "        elif len(inlist[fcnum])==0:\n",
    "            print 'can not find subtraction pair, no item in the list'\n",
    "            flags.append(False)\n",
    "            continue\n",
    "        else:\n",
    "            names=[]\n",
    "            dates=[]\n",
    "            eptimes=[]\n",
    "            for el in inlist[fcnum]:\n",
    "                names.append(el[0])\n",
    "                dates.append(el[1])\n",
    "                eptimes.append(el[2])\n",
    "            #print names\n",
    "            #print dates\n",
    "            #print eptimes\n",
    "            flag=evaluate_dates(names, dates, eptimes, mindiff=minval, onlyshow=onlyshow)\n",
    "            flags.append(flag)\n",
    "    return(flags)"
   ]
  },
  {
   "cell_type": "markdown",
   "metadata": {},
   "source": [
    "Wrapper for the diffval script, the actual condition for two images to belong together follows:"
   ]
  },
  {
   "cell_type": "code",
   "execution_count": null,
   "metadata": {
    "collapsed": true
   },
   "outputs": [],
   "source": [
    "def evaluate_dates(names=[], dates=[], eptimes=[], mindiff=0, onlyshow=True):\n",
    "    flag=False\n",
    "    print '%i images'%(len(names))\n",
    "    print '%i different dates'%(len(list(set(dates))))\n",
    "    if len(list(set(dates)))==1:\n",
    "        print 'no subtraction possible'\n",
    "    else:\n",
    "        names=np.array(names)\n",
    "        dates=np.array(dates)\n",
    "        eptimes_s=sorted(eptimes)\n",
    "        eptimes_s.reverse()\n",
    "        eptimes_s=np.array(eptimes_s)\n",
    "        eptimes=np.array(eptimes)\n",
    "\n",
    "\n",
    "        max_date=np.max(dates)\n",
    "        min_date=np.min(dates)\n",
    "\n",
    "        a=((dates<max_date+10) & (dates>max_date-10))\n",
    "        b=((dates<min_date+10) & (dates>min_date-10))\n",
    "        #c=((dates<max_date+10) & (dates>max_date-10) & (eptimes==np.max(eptimes)))\n",
    "        #print a\n",
    "        #print b\n",
    "        #print c\n",
    "\n",
    "        if len(dates[a])==1: \n",
    "            print 'one max date'\n",
    "            date_max=dates[a][0]\n",
    "            name_max=names[a][0]\n",
    "            eptime_max=eptimes[a][0]\n",
    "        else: \n",
    "            print 'multiple max dates'\n",
    "            for i in eptimes_s:\n",
    "                #print i\n",
    "                a=((dates<max_date+10) & (dates>max_date-10) & (eptimes==i))\n",
    "                if not dates[a]==[]:\n",
    "                    date_max=dates[a][0]\n",
    "                    name_max=names[a][0]\n",
    "                    eptime_max=eptimes[a][0]\n",
    "                    break\n",
    "        \n",
    "        if len(dates[b])==1:\n",
    "            print 'one min date'\n",
    "            date_min=dates[b][0]\n",
    "            name_min=names[b][0]\n",
    "            eptime_min=eptimes[b][0]\n",
    "        else:\n",
    "            print 'multiple min dates'\n",
    "            for i in eptimes_s:\n",
    "                #print i\n",
    "                a=((dates<min_date+10) & (dates>min_date-10) & (eptimes==i))\n",
    "                if dates[b]!=[]: \n",
    "                    date_min=dates[b][0]\n",
    "                    name_min=names[b][0]\n",
    "                    eptime_min=eptimes[b][0]\n",
    "                    break\n",
    "\n",
    "        print 'Newest Image, with highest EXPTIME %s, obs taken [days since 01/01/2000]: %i, Exposure Time: %.2f'%(name_max, date_max, eptime_max)\n",
    "        print 'Oldest Image, with highest EXPTIME %s, obs taken [days since 01/01/2000]: %i, Exposure Time: %.2f'%(name_min, date_min, eptime_min)\n",
    "        if not onlyshow:\n",
    "            maxfile=FitsFile(direc+name_max)\n",
    "            minfile=FitsFile(direc+name_min)\n",
    "            maxfile.set(keyword='DIFFVAL', value=1)\n",
    "            minfile.set(keyword='DIFFVAL', value=-1)\n",
    "            print direc+'DIFFVAL_-1/'+minfile.name\n",
    "            print direc+'DIFFVAL_1/'+maxfile.name\n",
    "            #minfile.save()\n",
    "            #maxfile.save()\n",
    "\n",
    "\n",
    "        flag=True\n",
    "\n",
    "        \n",
    "    return(flag)\n",
    "\n"
   ]
  },
  {
   "cell_type": "markdown",
   "metadata": {},
   "source": [
    "Images taken apart moer than mindiff with highest exposure time are taken"
   ]
  },
  {
   "cell_type": "code",
   "execution_count": null,
   "metadata": {
    "collapsed": true
   },
   "outputs": [],
   "source": [
    "if __name__=='__main__':\n",
    "    args=get_opt()\n",
    "    direc=args.dir\n",
    "    onlyshow=args.onlyshow\n",
    "    minval=args.mindiff\n",
    "    filenames=[]\n",
    "    for x in os.listdir(direc):\n",
    "        if x[-5:]=='.fits':\n",
    "            filenames.append(x)\n",
    "    fclist, kyl=mklists(names=filenames, onlyshow=onlyshow)\n",
    "    flags=diffval(direc=direc, inlist=fclist, keylist=kyl, minval=minval, onlyshow=onlyshow)\n",
    "    print '\\n\\n'\n",
    "    Tflags=0\n",
    "    t=[]\n",
    "    Fflags=0\n",
    "    f=[]\n",
    "    for el in zip(kyl, flags):\n",
    "        if el[1]: \n",
    "            Tflags+=1\n",
    "            t.append(el[0])\n",
    "        else: \n",
    "            Fflags+=1\n",
    "            f.append(el[0])\n",
    "    print 'succes rate for FCNUMS is %f %%'%(100.*float(Tflags)/float(Tflags+Fflags))\n",
    "    print t\n",
    "    sort_images_by_single_keyword(keyword='DIFFVAL', dir=direc)\n",
    "    move_im(dir=direc, ext='fits')"
   ]
  },
  {
   "cell_type": "markdown",
   "metadata": {},
   "source": [
    "Runs script, moves all fits files afterwards into ./fits, diffval in 1 or -1"
   ]
  }
 ],
 "metadata": {
  "kernelspec": {
   "display_name": "Python 3",
   "language": "python",
   "name": "python3"
  },
  "language_info": {
   "codemirror_mode": {
    "name": "ipython",
    "version": 3
   },
   "file_extension": ".py",
   "mimetype": "text/x-python",
   "name": "python",
   "nbconvert_exporter": "python",
   "pygments_lexer": "ipython3",
   "version": "3.5.1"
  }
 },
 "nbformat": 4,
 "nbformat_minor": 0
}
