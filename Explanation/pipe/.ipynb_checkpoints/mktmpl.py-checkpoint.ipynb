{
 "cells": [
  {
   "cell_type": "markdown",
   "metadata": {},
   "source": [
    "Splits files into two directories, earlier and later, can be used for making template directory"
   ]
  },
  {
   "cell_type": "code",
   "execution_count": null,
   "metadata": {
    "collapsed": true
   },
   "outputs": [],
   "source": [
    "#!/usr/bin/env python\n",
    "import argparse, os\n",
    "import modules as mod\n",
    "import numpy as np\n",
    "\n",
    "def get_opt():\n",
    "    parser=argparse.ArgumentParser()\n",
    "    parser.add_argument('-sort', default=False, action='store_true', help='move images in 1 and -1')\n",
    "    parser.add_argument('-dir',type=str, default='./', help='rootdir')\n",
    "    args=parser.parse_args()\n",
    "    return(args)\n",
    "\n",
    "\n",
    "if __name__=='__main__':\n",
    "    args=get_opt()\n",
    "    dir=args.dir\n",
    "    sort=args.sort\n",
    "    fitsfiles=[]\n",
    "    date_obs=[]\n",
    "    for el in sorted(os.listdir(dir)):\n",
    "        if el.endswith('.fits'):\n",
    "            try:\n",
    "                myfile=mod.FitsFile(dir+el)\n",
    "                date=mod.est_obsdate2days(myfile.keyword('DATE-OBS'))\n",
    "                print 'reading %s: \\t %s --> %i'%(myfile.name, myfile.keyword('DATE-OBS'), date)\n",
    "            except KeyError:\n",
    "                continue\n",
    "            fitsfiles.append(myfile)\n",
    "            date_obs.append(date)\n",
    "\n",
    "    date_obs=np.array(date_obs)\n",
    "    date_obs_unique=np.unique(date_obs)\n",
    "\n",
    "    maxd=np.max(date_obs_unique)\n",
    "    mind=np.min(date_obs_unique)\n",
    "    print 'newest', maxd\n",
    "    print 'oldest', mind\n",
    "    new_files=[]\n",
    "    new_dates=[]\n",
    "\n",
    "    old_files=[]\n",
    "    old_dates=[]\n",
    "\n",
    "    for date, myfile  in zip(date_obs, fitsfiles):\n",
    "        if abs(date-mind)>abs(date-maxd):\n",
    "            print date, myfile.name, '--> new'\n",
    "            new_dates.append(date)\n",
    "            new_files.append(myfile)\n",
    "            myfile.set(keyword='DIFFVAL', value=1)\n",
    "        elif abs(date-maxd)>=abs(date-mind):\n",
    "            old_dates.append(date)\n",
    "            old_files.append(myfile)\n",
    "            myfile.set(keyword='DIFFVAL', value=-1)\n",
    "\n",
    "            print date, myfile.name, '--> old'\n",
    "\n",
    "    print '\\n\\nnew'\n",
    "    for el, date in zip(new_files, new_dates):\n",
    "        print el.name, date\n",
    "    print '\\nold'\n",
    "    for el, date in zip(old_files, old_dates):\n",
    "        print el.name, date\n",
    "\n",
    "    old_dates_unique=np.unique(old_dates)\n",
    "    new_dates_unique=np.unique(new_dates)\n",
    "    new_min=np.min(new_dates_unique)\n",
    "    old_max=np.max(old_dates_unique)\n",
    "    print 'new images range:\\t%i to %i'%(new_min, maxd)\n",
    "    print 'old images range:\\t%i to %i'%(mind, old_max)\n",
    "    \n",
    "    if sort: mod.sort_images_by_single_keyword('DIFFVAL', dir=dir)\n",
    "\n"
   ]
  }
 ],
 "metadata": {
  "kernelspec": {
   "display_name": "Python 3",
   "language": "python",
   "name": "python3"
  },
  "language_info": {
   "codemirror_mode": {
    "name": "ipython",
    "version": 3
   },
   "file_extension": ".py",
   "mimetype": "text/x-python",
   "name": "python",
   "nbconvert_exporter": "python",
   "pygments_lexer": "ipython3",
   "version": "3.5.1"
  }
 },
 "nbformat": 4,
 "nbformat_minor": 0
}
