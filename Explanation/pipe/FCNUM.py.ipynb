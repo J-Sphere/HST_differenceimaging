{
 "cells": [
  {
   "cell_type": "markdown",
   "metadata": {},
   "source": [
    "FCNUM.py checks which CCD is the one in ext. 1 \n",
    "It then uses CCD (UVIS) 1 to determine groups of images\n",
    "The images get the keywords MAINCCD in the 0.header"
   ]
  },
  {
   "cell_type": "code",
   "execution_count": null,
   "metadata": {
    "collapsed": true
   },
   "outputs": [],
   "source": [
    "def get_opt():\n",
    "    parser=argparse.ArgumentParser()\n",
    "    parser.add_argument('-radius', type=float, default=None, help='defines max radius for Fieldcenter search')\n",
    "    parser.add_argument('-onlyshow', action='store_true', default=False, help='give to not rename files but to see what it would be doing')\n",
    "    parser.add_argument('-survey', default=None, type=str, help='set surveyname')\n",
    "    parser.add_argument('-dir', type=str, default='./', help='rootdir')\n",
    "    parser.add_argument('-f', action='store_true', default=False, help='disable interactivity')\n",
    "\n",
    "    args=parser.parse_args()\n",
    "    return(args)"
   ]
  },
  {
   "cell_type": "markdown",
   "metadata": {},
   "source": [
    "Module import and Initialisation\n",
    "os, fits for file handeling\n",
    "argparse for setting parameters\n",
    "np, math for calculations\n",
    "pyplot or plt for plotting"
   ]
  },
  {
   "cell_type": "code",
   "execution_count": null,
   "metadata": {
    "collapsed": true
   },
   "outputs": [],
   "source": [
    "def rename(direc, filenames, scaling=0.04, radius=None, onlyshow=False):\n",
    "    ra_u=[]\n",
    "    dec_u=[]\n",
    "    if radius!=None: givenrad=True\n",
    "    else: givenrad=False"
   ]
  },
  {
   "cell_type": "markdown",
   "metadata": {},
   "source": [
    "Initialisation, checks if the radius has to be determined"
   ]
  },
  {
   "cell_type": "code",
   "execution_count": null,
   "metadata": {
    "collapsed": true
   },
   "outputs": [],
   "source": [
    "    for el in filenames:\n",
    "        #open file, read header\n",
    "        print '\\n\\n>>> %s' %(el)\n",
    "        hdulist=fits.open(direc+el)\n",
    "        try:\n",
    "            CCD_1=hdulist[1].header['CCDCHIP']\n",
    "        except KeyError:\n",
    "            print '%s does not have information on CCD in its header (ext 0)' %(el)\n",
    "            continue\n",
    "        if CCD_1==1:\n",
    "            print 'ext. 1 is UVIS1'\n",
    "            refrael=hdulist[1].header['CRVAL1'] \n",
    "            refdecel=hdulist[1].header['CRVAL2'] \n",
    "            NAXIS2=hdulist[1].header['NAXIS2']\n",
    "            mainccd=1\n",
    "        elif CCD_1==2:\n",
    "            print 'ext. 1 is UVIS2 thus using ext 4'\n",
    "            refrael=hdulist[4].header['CRVAL1'] \n",
    "            refdecel=hdulist[4].header['CRVAL2']\n",
    "            NAXIS2=hdulist[4].header['NAXIS2']\n",
    "            mainccd=2\n",
    "        else:\n",
    "            print '%s is no flc/flt image, CCD=%s' %(el, CCD_1)\n",
    "            continue\n",
    "            "
   ]
  },
  {
   "cell_type": "markdown",
   "metadata": {},
   "source": [
    "For every file the CCD in ext 1 is determined, if it is 2 ext 4 is used to find CCD 1\n",
    "The central point refrael refdecel is determined by looking at the header information\n",
    "Images which fail to provide this information are skipped"
   ]
  },
  {
   "cell_type": "code",
   "execution_count": null,
   "metadata": {
    "collapsed": true
   },
   "outputs": [],
   "source": [
    "        if not givenrad:\n",
    "            try:\n",
    "                radius=scaling*NAXIS2\n",
    "                print 'search radius is %f'%(radius)\n",
    "            except:\n",
    "                radius=0.001\n",
    "                print 'couldnt find radius, set by default: %f'%(radius)\n",
    "        else:\n",
    "            print 'using radius',radius"
   ]
  },
  {
   "cell_type": "markdown",
   "metadata": {},
   "source": [
    "If the radius is not defined we use the legth of the shorter side of CCD 1 in degree"
   ]
  },
  {
   "cell_type": "code",
   "execution_count": null,
   "metadata": {
    "collapsed": true
   },
   "outputs": [],
   "source": [
    "        target=hdulist[0].header['TARGNAME'] \n",
    "        #assign field center number to image\n",
    "        c=0\n",
    "        field_nr=None\n",
    "        for ra, dec in zip(ra_u, dec_u):\n",
    "            ra_check=np.mean(ra)\n",
    "            dec_check=np.mean(dec)\n",
    "\n",
    "            if check(refrael, ra_check, refdecel, dec_check, radius):\n",
    "                field_nr=c\n",
    "                ra_u[c].extend([refrael])\n",
    "                dec_u[c].extend([refdecel])\n",
    "                break\n",
    "            else:\n",
    "                c+=1\n",
    "        if field_nr is None:\n",
    "            field_nr=c\n",
    "            ra_u.extend([[refrael]])\n",
    "            dec_u.extend([[refdecel]])\n",
    "        new_field=change_name(target, field_nr)"
   ]
  },
  {
   "cell_type": "markdown",
   "metadata": {},
   "source": [
    "field_nr (future FCNUM) is determined, if it already exists the image is assigned to the fieldcenter and the center is added to ra_u[field number] and dec_u[field number], which is further used to correct the field center (by taking the mean of all centers belonging to the fleid) for the next images\n",
    "if the image does not fit any field a new one is created"
   ]
  },
  {
   "cell_type": "code",
   "execution_count": null,
   "metadata": {
    "collapsed": true
   },
   "outputs": [],
   "source": [
    "        #fits.setval(el, 'TARGNAME', value=new_field)\n",
    "        #fits.setval(el, 'TARGNAME', value='30-DOR')\n",
    "        #print 'new name for value \"TARGNAME\" %s is %s' %(el, new_field)\n",
    "\n",
    "        print 'new name for value \"FCNUM\" (field nr) for %s is %s' %(el, field_nr)\n",
    "\n",
    "\n",
    "        #splitting files int to new files (UVIS 1 and UVIS 2 in ext.1)\n",
    "\n",
    "        #newname1='UVIS{}_'.format(mainccd)+el\n",
    "        newname1=el\n",
    "        if onlyshow:\n",
    "            print 'Without -onlyshow: \\n\\tsave %s, assigning MAINCCD to %s, FCNUM to %s'%(newname1, mainccd, field_nr)\n",
    "        else:\n",
    "            hdulist.writeto(newname1, clobber=True)\n",
    "            fits.setval(newname1, 'FCNUM', value=field_nr)\n",
    "            fits.setval(newname1, 'MAINCCD', value=str(mainccd))#CCD for image in extension 1 (UVIS)\n",
    "            print 'save %s, assigning MAINCCD to %s, FCNUM to %s'%(newname1, mainccd, field_nr)\n",
    "            "
   ]
  },
  {
   "cell_type": "markdown",
   "metadata": {},
   "source": [
    "If -onlyshow is given the files are not changed, otherwise MAINCCD and FCNUM are assigned to the element"
   ]
  },
  {
   "cell_type": "code",
   "execution_count": null,
   "metadata": {
    "collapsed": true
   },
   "outputs": [],
   "source": [
    "        \"\"\"\n",
    "        bu=hdulist\n",
    "\n",
    "        if mainccd==1: mainccd_2=2\n",
    "        elif mainccd==2: mainccd_2=1\n",
    "        else: print 'Not existing mode'\n",
    "\n",
    "        newname2='UVIS{}_'.format(mainccd_2)+el\n",
    "\n",
    "        orig_order=np.arange(1, len(hdulist))\n",
    "        new_order=np.zeros(len(orig_order), dtype=np.int)\n",
    "        for i in xrange(len(orig_order)):\n",
    "            new_order[i]=orig_order[i]\n",
    "\n",
    "        new_order[0]=orig_order[3]\n",
    "        new_order[1]=orig_order[4]\n",
    "        new_order[2]=orig_order[5]\n",
    "        new_order[3]=orig_order[0]\n",
    "        new_order[4]=orig_order[1]       \n",
    "        new_order[5]=orig_order[2]    \n",
    "   \n",
    "        print 'Original order of extensions\\t',orig_order, 'in %s'%(newname1)\n",
    "        print 'New order of extensions \\t',new_order, 'in %s'%(newname2)\n",
    "\n",
    "        newhdu=fits.HDUList(hdus=[bu[0]])\n",
    "        for new_data in new_order:\n",
    "            newhdu.append(hdulist[new_data])\n",
    "\n",
    "        if onlyshow:\n",
    "            print 'save %s, assigning MAINCCD to %s, FCNUM to %s'%(newname2, mainccd_2, field_nr)\n",
    "            newhdu.close()\n",
    "            hdulist.close()\n",
    "        else:\n",
    "            newhdu.writeto(newname2, clobber=True)\n",
    "            fits.setval(newname2, 'MAINCCD', value=str(mainccd_2)) #CCD for image in extension 1 (UVIS)\n",
    "            fits.setval(newname2, 'FCNUM', value=field_nr)\n",
    "            \n",
    "        \"\"\""
   ]
  },
  {
   "cell_type": "markdown",
   "metadata": {},
   "source": [
    "In case one wants to split the image into two new images, the old one with newname1 (which can be changed from el to UVIS#_el) and the new one.\n",
    "The advantage is that the new order of extensions in the new file is:\n",
    "0 4 5 6 1 2 3 7 8 9 10 11 ...\n",
    "The files now contain the same general information but in the one UVIS1 is in ext 1 in the other UVIS2"
   ]
  },
  {
   "cell_type": "code",
   "execution_count": null,
   "metadata": {
    "collapsed": true
   },
   "outputs": [],
   "source": [
    "    print 'assigned %i different fieldcenters'%(len(ra_u))\n",
    "\n",
    "    #plotting image centers with mathplotlib\n",
    "    for ra,dec in zip(ra_u, dec_u):\n",
    "        plt.plot(ra,dec, 'o')\n",
    "    plt.show()\n",
    "    return ()"
   ]
  },
  {
   "cell_type": "markdown",
   "metadata": {},
   "source": [
    "if done print out how many fcnums are given and plot them in different colors"
   ]
  },
  {
   "cell_type": "code",
   "execution_count": null,
   "metadata": {
    "collapsed": true
   },
   "outputs": [],
   "source": [
    "def change_name(field, nr):\n",
    "    name_str=field+str(nr)\n",
    "    return name_str"
   ]
  },
  {
   "cell_type": "markdown",
   "metadata": {},
   "source": [
    "The most unnecessary thing ever, can be modified though to change the file name into more complicated stuff"
   ]
  },
  {
   "cell_type": "code",
   "execution_count": null,
   "metadata": {
    "collapsed": true
   },
   "outputs": [],
   "source": [
    "def check(ra1, ra2, dec1, dec2, radius):\n",
    "    myaos=aos(ra1, ra2, dec1, dec2)\n",
    "    return (myaos<=radius)"
   ]
  },
  {
   "cell_type": "markdown",
   "metadata": {},
   "source": [
    "Calculates the angle of separation:\n",
    "cos(y)=cos(a)+cos(b)-1\n",
    "compares the result to the search radius, returns True if Radius is higher, False if not"
   ]
  },
  {
   "cell_type": "code",
   "execution_count": null,
   "metadata": {
    "collapsed": true
   },
   "outputs": [],
   "source": [
    "if __name__ == '__main__':\n",
    "    args=get_opt()\n",
    "    if not args.f:\n",
    "        if args.survey==None:\n",
    "            i=str(raw_input('No -survey input, continue? (y/n): \\t'))\n",
    "            if i in ['q', 'exit', 'quit', 'n']:\n",
    "                sys.exit('exiting...')\n",
    "            else:\n",
    "                pass"
   ]
  },
  {
   "cell_type": "markdown",
   "metadata": {},
   "source": [
    "One is asked to fill in a survey name (e.g. 30dor or PHAT, the keyword ill be set and used in rename_jhein.pl) This isfor giving the images one belonging name independent of their PID or FILTER. Can also be done by hand \n",
    "add_keyword.py SURVEY [VALUE]"
   ]
  },
  {
   "cell_type": "code",
   "execution_count": null,
   "metadata": {
    "collapsed": true
   },
   "outputs": [],
   "source": [
    "    scaling=0.04 #arcsec/pix\n",
    "    scaling/=3600. #deg/pix\n",
    "    direc=args.dir\n",
    "\n",
    "    filenames=[]\n",
    "    for x in os.listdir(direc):\n",
    "        if x[-5:]=='.fits':\n",
    "            filenames.append(x)\n",
    "    filenames=sorted(filenames)\n",
    "    rename(direc, filenames, scaling, radius=args.radius, onlyshow=args.onlyshow)"
   ]
  },
  {
   "cell_type": "markdown",
   "metadata": {},
   "source": [
    "Scaling for HST WFC3 UVIS images is 0.04 arcsec/pix.\n",
    "It takes all files ending on .fits"
   ]
  }
 ],
 "metadata": {
  "kernelspec": {
   "display_name": "Python 3",
   "language": "python",
   "name": "python3"
  },
  "language_info": {
   "codemirror_mode": {
    "name": "ipython",
    "version": 3
   },
   "file_extension": ".py",
   "mimetype": "text/x-python",
   "name": "python",
   "nbconvert_exporter": "python",
   "pygments_lexer": "ipython3",
   "version": "3.5.1"
  }
 },
 "nbformat": 4,
 "nbformat_minor": 0
}
